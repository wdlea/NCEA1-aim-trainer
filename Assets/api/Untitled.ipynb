{
 "cells": [
  {
   "cell_type": "code",
   "execution_count": 1,
   "id": "5a8b69d0",
   "metadata": {},
   "outputs": [],
   "source": [
    "import socket as s"
   ]
  },
  {
   "cell_type": "code",
   "execution_count": 2,
   "id": "ccb6ecbe",
   "metadata": {},
   "outputs": [],
   "source": [
    "sock = s.socket(s.AF_INET, s.SOCK_STREAM)\n",
    "\n",
    "sock.connect((\"127.0.0.1\", 80))"
   ]
  },
  {
   "cell_type": "code",
   "execution_count": 3,
   "id": "42fbad11",
   "metadata": {},
   "outputs": [
    {
     "data": {
      "text/plain": [
       "11"
      ]
     },
     "execution_count": 3,
     "metadata": {},
     "output_type": "execute_result"
    }
   ],
   "source": [
    "sock.send(b\"hello world\")"
   ]
  },
  {
   "cell_type": "code",
   "execution_count": null,
   "id": "9ec6eac9",
   "metadata": {},
   "outputs": [],
   "source": []
  }
 ],
 "metadata": {
  "kernelspec": {
   "display_name": "Python 3 (ipykernel)",
   "language": "python",
   "name": "python3"
  },
  "language_info": {
   "codemirror_mode": {
    "name": "ipython",
    "version": 3
   },
   "file_extension": ".py",
   "mimetype": "text/x-python",
   "name": "python",
   "nbconvert_exporter": "python",
   "pygments_lexer": "ipython3",
   "version": "3.11.2"
  }
 },
 "nbformat": 4,
 "nbformat_minor": 5
}
