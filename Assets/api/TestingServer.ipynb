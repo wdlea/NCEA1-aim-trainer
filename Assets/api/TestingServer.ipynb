{
 "cells": [
  {
   "cell_type": "markdown",
   "id": "df533078",
   "metadata": {},
   "source": [
    "# Server Test\n",
    "> This is the code I am using to test the server. In this test, I will use 2 connections and attempt to make the join the same game."
   ]
  },
  {
   "cell_type": "code",
   "execution_count": 8,
   "id": "83c6008e",
   "metadata": {},
   "outputs": [],
   "source": [
    "import socket as s"
   ]
  },
  {
   "cell_type": "markdown",
   "id": "77f3c830",
   "metadata": {},
   "source": [
    "## Connecting to server\n",
    "\n",
    "I connect to the GO server on port 80(configured in docker)."
   ]
  },
  {
   "cell_type": "code",
   "execution_count": 9,
   "id": "00e569e1",
   "metadata": {},
   "outputs": [],
   "source": [
    "conn = s.socket(s.AF_INET, s.SOCK_STREAM)\n",
    "conn.connect((\"127.0.0.1\", 80))"
   ]
  },
  {
   "cell_type": "markdown",
   "id": "307c6fb4",
   "metadata": {},
   "source": [
    "## Sending packets\n",
    "\n",
    "All packets must be suffixed with \\n. This is a python implemtation of how to send them:"
   ]
  },
  {
   "cell_type": "code",
   "execution_count": 12,
   "id": "98561186",
   "metadata": {},
   "outputs": [],
   "source": [
    "# Sends a packet, returns whatever socket.Send returns\n",
    "def send_packet(content: bytes):\n",
    "    global conn\n",
    "    return conn.send(content + b'\\n')\n"
   ]
  },
  {
   "cell_type": "markdown",
   "id": "dcdf4c39",
   "metadata": {},
   "source": [
    "## Creating a game\n",
    "\n",
    "I need to send a packet with 'c' as the first character to intialise a game:"
   ]
  },
  {
   "cell_type": "code",
   "execution_count": 13,
   "id": "631cbdd3",
   "metadata": {},
   "outputs": [
    {
     "data": {
      "text/plain": [
       "2"
      ]
     },
     "execution_count": 13,
     "metadata": {},
     "output_type": "execute_result"
    }
   ],
   "source": [
    "send_packet(b'c')"
   ]
  },
  {
   "cell_type": "markdown",
   "id": "84ccf849",
   "metadata": {},
   "source": [
    "In response, I should get a packet with the *game code*."
   ]
  },
  {
   "cell_type": "code",
   "execution_count": 14,
   "id": "12301640",
   "metadata": {},
   "outputs": [],
   "source": [
    "BUFFER_SIZE = 1024\n",
    "\n",
    "def recieve_packet() -> bytes:\n",
    "    return conn.recv(BUFFER_SIZE)"
   ]
  },
  {
   "cell_type": "code",
   "execution_count": 15,
   "id": "a13113de",
   "metadata": {},
   "outputs": [
    {
     "ename": "KeyboardInterrupt",
     "evalue": "",
     "output_type": "error",
     "traceback": [
      "\u001b[0;31m---------------------------------------------------------------------------\u001b[0m",
      "\u001b[0;31mKeyboardInterrupt\u001b[0m                         Traceback (most recent call last)",
      "\u001b[1;32me:\\wdlea\\go\\src\\github.com\\wdlea\\aimtrainerAPI\\TestingServer.ipynb Cell 11\u001b[0m in \u001b[0;36m1\n\u001b[0;32m----> <a href='vscode-notebook-cell:/e%3A/wdlea/go/src/github.com/wdlea/aimtrainerAPI/TestingServer.ipynb#X21sZmlsZQ%3D%3D?line=0'>1</a>\u001b[0m recieve_packet()\n",
      "\u001b[1;32me:\\wdlea\\go\\src\\github.com\\wdlea\\aimtrainerAPI\\TestingServer.ipynb Cell 11\u001b[0m in \u001b[0;36m4\n\u001b[1;32m      <a href='vscode-notebook-cell:/e%3A/wdlea/go/src/github.com/wdlea/aimtrainerAPI/TestingServer.ipynb#X21sZmlsZQ%3D%3D?line=2'>3</a>\u001b[0m \u001b[39mdef\u001b[39;00m \u001b[39mrecieve_packet\u001b[39m() \u001b[39m-\u001b[39m\u001b[39m>\u001b[39m \u001b[39mbytes\u001b[39m:\n\u001b[0;32m----> <a href='vscode-notebook-cell:/e%3A/wdlea/go/src/github.com/wdlea/aimtrainerAPI/TestingServer.ipynb#X21sZmlsZQ%3D%3D?line=3'>4</a>\u001b[0m     \u001b[39mreturn\u001b[39;00m conn\u001b[39m.\u001b[39;49mrecv(BUFFER_SIZE)\n",
      "\u001b[0;31mKeyboardInterrupt\u001b[0m: "
     ]
    }
   ],
   "source": [
    "recieve_packet()"
   ]
  }
 ],
 "metadata": {
  "kernelspec": {
   "display_name": "Python 3 (ipykernel)",
   "language": "python",
   "name": "python3"
  },
  "language_info": {
   "codemirror_mode": {
    "name": "ipython",
    "version": 3
   },
   "file_extension": ".py",
   "mimetype": "text/x-python",
   "name": "python",
   "nbconvert_exporter": "python",
   "pygments_lexer": "ipython3",
   "version": "3.11.2"
  }
 },
 "nbformat": 4,
 "nbformat_minor": 5
}
