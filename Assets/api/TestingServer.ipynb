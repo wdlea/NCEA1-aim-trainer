{
 "cells": [
  {
   "cell_type": "markdown",
   "id": "df533078",
   "metadata": {},
   "source": [
    "# Server Test\n",
    "> This is the code I am using to test the server. In this test, I will use 2 connections and attempt to make the join the same game."
   ]
  },
  {
   "cell_type": "code",
   "execution_count": 159,
   "id": "83c6008e",
   "metadata": {},
   "outputs": [],
   "source": [
    "import socket as s"
   ]
  },
  {
   "cell_type": "markdown",
   "id": "77f3c830",
   "metadata": {},
   "source": [
    "## Connecting to server\n",
    "\n",
    "I connect to the GO server on port 80(configured in docker)."
   ]
  },
  {
   "cell_type": "code",
   "execution_count": 160,
   "id": "00e569e1",
   "metadata": {},
   "outputs": [],
   "source": [
    "conn = s.socket(s.AF_INET, s.SOCK_STREAM)\n",
    "conn.connect((\"127.0.0.1\", 80))"
   ]
  },
  {
   "cell_type": "markdown",
   "id": "307c6fb4",
   "metadata": {},
   "source": [
    "## Sending packets\n",
    "\n",
    "All packets must be suffixed with \\n. This is a python implemtation of how to send them:"
   ]
  },
  {
   "cell_type": "code",
   "execution_count": 161,
   "id": "98561186",
   "metadata": {},
   "outputs": [],
   "source": [
    "# Sends a packet, returns whatever socket.Send returns\n",
    "def send_packet(content: bytes):\n",
    "    global conn\n",
    "    return conn.send(content + b'\\n')\n"
   ]
  },
  {
   "cell_type": "markdown",
   "id": "ceb1921b",
   "metadata": {},
   "source": [
    "## Get a name"
   ]
  },
  {
   "cell_type": "code",
   "execution_count": 162,
   "id": "69c3aad0",
   "metadata": {},
   "outputs": [
    {
     "data": {
      "text/plain": [
       "b'Njim\\n'"
      ]
     },
     "execution_count": 162,
     "metadata": {},
     "output_type": "execute_result"
    }
   ],
   "source": [
    "send_packet(b'njim')#set my name as jim\n",
    "conn.recv(1024)"
   ]
  },
  {
   "cell_type": "markdown",
   "id": "dcdf4c39",
   "metadata": {},
   "source": [
    "## Creating a game\n",
    "\n",
    "I need to send a packet with 'c' as the first character to intialise a game:"
   ]
  },
  {
   "cell_type": "code",
   "execution_count": 163,
   "id": "631cbdd3",
   "metadata": {},
   "outputs": [
    {
     "data": {
      "text/plain": [
       "2"
      ]
     },
     "execution_count": 163,
     "metadata": {},
     "output_type": "execute_result"
    }
   ],
   "source": [
    "send_packet(b'c')"
   ]
  },
  {
   "cell_type": "markdown",
   "id": "84ccf849",
   "metadata": {},
   "source": [
    "In response, I should get a packet with the *game code*."
   ]
  },
  {
   "cell_type": "code",
   "execution_count": 164,
   "id": "12301640",
   "metadata": {},
   "outputs": [],
   "source": [
    "BUFFER_SIZE = 1024\n",
    "\n",
    "def recieve_packet() -> bytes:\n",
    "    return conn.recv(BUFFER_SIZE)"
   ]
  },
  {
   "cell_type": "markdown",
   "id": "c50b7881",
   "metadata": {},
   "source": [
    "## Recieve the response from creating the game"
   ]
  },
  {
   "cell_type": "code",
   "execution_count": 165,
   "id": "a13113de",
   "metadata": {},
   "outputs": [],
   "source": [
    "packet = recieve_packet()"
   ]
  },
  {
   "cell_type": "code",
   "execution_count": 166,
   "id": "a7dc56b9",
   "metadata": {},
   "outputs": [
    {
     "data": {
      "text/plain": [
       "b'vzwexzfv'"
      ]
     },
     "execution_count": 166,
     "metadata": {},
     "output_type": "execute_result"
    }
   ],
   "source": [
    "trimmed = packet[1:-1]#trim type and \\n out\n",
    "import json\n",
    "trimmed"
   ]
  },
  {
   "cell_type": "markdown",
   "id": "74e6cd2c",
   "metadata": {},
   "source": [
    "## User 2\n",
    "\n",
    "I will attempt to join the game as another user"
   ]
  },
  {
   "cell_type": "code",
   "execution_count": 167,
   "id": "1f7f99c8",
   "metadata": {},
   "outputs": [],
   "source": [
    "conn2 = s.socket(s.AF_INET, s.SOCK_STREAM)\n",
    "conn2.connect((\"127.0.0.1\", 80))"
   ]
  },
  {
   "cell_type": "code",
   "execution_count": 168,
   "id": "cbba9f4d",
   "metadata": {},
   "outputs": [
    {
     "data": {
      "text/plain": [
       "b'Nbob\\n'"
      ]
     },
     "execution_count": 168,
     "metadata": {},
     "output_type": "execute_result"
    }
   ],
   "source": [
    "conn2.send(b'nbob\\n')#set my name as bob\n",
    "conn2.recv(BUFFER_SIZE)"
   ]
  },
  {
   "cell_type": "code",
   "execution_count": 169,
   "id": "ffa6283c",
   "metadata": {},
   "outputs": [
    {
     "data": {
      "text/plain": [
       "b'BS\\nJsuccess\\nBT{\"X\":0,\"Y\":0,\"Dx\":0,\"Dy\":0,\"ID\":0}\\nBT{\"X\":0,\"Y\":0,\"Dx\":0,\"Dy\":0,\"ID\":1}\\nBT{\"X\":0,\"Y\":0,\"Dx\":0,\"Dy\":0,\"ID\":2}\\nBT{\"X\":0,\"Y\":0,\"Dx\":0,\"Dy\":0,\"ID\":3}\\nBT{\"X\":0,\"Y\":0,\"Dx\":0,\"Dy\":0,\"ID\":4}\\nBT{\"X\":0,\"Y\":0,\"Dx\":0,\"Dy\":0,\"ID\":5}\\nBT{\"X\":0,\"Y\":0,\"Dx\":0,\"Dy\":0,\"ID\":6}\\nBT{\"X\":0,\"Y\":0,\"Dx\":0,\"Dy\":0,\"ID\":7}\\nBT{\"X\":0,\"Y\":0,\"Dx\":0,\"Dy\":0,\"ID\":8}\\nBT{\"X\":0,\"Y\":0,\"Dx\":0,\"Dy\":0,\"ID\":9}\\nBT{\"X\":0,\"Y\":0,\"Dx\":0,\"Dy\":0,\"ID\":10}\\nBT{\"X\":0,\"Y\":0,\"Dx\":0,\"Dy\":0,\"ID\":11}\\nBT{\"X\":0,\"Y\":0,\"Dx\":0,\"Dy\":0,\"ID\":12}\\nBT{\"X\":0,\"Y\":0,\"Dx\":0,\"Dy\":0,\"ID\":13}\\nBT{\"X\":0,\"Y\":0,\"Dx\":0,\"Dy\":0,\"ID\":14}\\nBT{\"X\":0,\"Y\":0,\"Dx\":0,\"Dy\":0,\"ID\":15}\\nBT{\"X\":0,\"Y\":0,\"Dx\":0,\"Dy\":0,\"ID\":16}\\nBT{\"X\":0,\"Y\":0,\"Dx\":0,\"Dy\":0,\"ID\":17}\\nBT{\"X\":0,\"Y\":0,\"Dx\":0,\"Dy\":0,\"ID\":18}\\n'"
      ]
     },
     "execution_count": 169,
     "metadata": {},
     "output_type": "execute_result"
    }
   ],
   "source": [
    "conn2.send(b'j' + trimmed + b'\\n')\n",
    "\n",
    "from time import sleep\n",
    "sleep(1)#wait for response\n",
    "\n",
    "conn2.recv(BUFFER_SIZE)"
   ]
  },
  {
   "cell_type": "markdown",
   "id": "fa793754",
   "metadata": {},
   "source": [
    "### Conn 1 start game packet\n"
   ]
  },
  {
   "cell_type": "code",
   "execution_count": 170,
   "id": "13599218",
   "metadata": {},
   "outputs": [
    {
     "data": {
      "text/plain": [
       "b'BS\\nBT{\"X\":0,\"Y\":0,\"Dx\":0,\"Dy\":0,\"ID\":0}\\nBT{\"X\":0,\"Y\":0,\"Dx\":0,\"Dy\":0,\"ID\":1}\\nBT{\"X\":0,\"Y\":0,\"Dx\":0,\"Dy\":0,\"ID\":2}\\nBT{\"X\":0,\"Y\":0,\"Dx\":0,\"Dy\":0,\"ID\":3}\\nBT{\"X\":0,\"Y\":0,\"Dx\":0,\"Dy\":0,\"ID\":4}\\nBT{\"X\":0,\"Y\":0,\"Dx\":0,\"Dy\":0,\"ID\":5}\\nBT{\"X\":0,\"Y\":0,\"Dx\":0,\"Dy\":0,\"ID\":6}\\nBT{\"X\":0,\"Y\":0,\"Dx\":0,\"Dy\":0,\"ID\":7}\\nBT{\"X\":0,\"Y\":0,\"Dx\":0,\"Dy\":0,\"ID\":8}\\nBT{\"X\":0,\"Y\":0,\"Dx\":0,\"Dy\":0,\"ID\":9}\\nBT{\"X\":0,\"Y\":0,\"Dx\":0,\"Dy\":0,\"ID\":10}\\nBT{\"X\":0,\"Y\":0,\"Dx\":0,\"Dy\":0,\"ID\":11}\\nBT{\"X\":0,\"Y\":0,\"Dx\":0,\"Dy\":0,\"ID\":12}\\nBT{\"X\":0,\"Y\":0,\"Dx\":0,\"Dy\":0,\"ID\":13}\\nBT{\"X\":0,\"Y\":0,\"Dx\":0,\"Dy\":0,\"ID\":14}\\nBT{\"X\":0,\"Y\":0,\"Dx\":0,\"Dy\":0,\"ID\":15}\\nBT{\"X\":0,\"Y\":0,\"Dx\":0,\"Dy\":0,\"ID\":16}\\nBT{\"X\":0,\"Y\":0,\"Dx\":0,\"Dy\":0,\"ID\":17}\\nBT{\"X\":0,\"Y\":0,\"Dx\":0,\"Dy\":0,\"ID\":18}\\nBT{\"X\":0,\"Y\":0,\"Dx\":0,\"Dy\":0,\"ID\":19}\\nBT{\"X\":0,\"Y\":0,\"Dx\":0,\"Dy\":0,\"ID\":20}\\n'"
      ]
     },
     "execution_count": 170,
     "metadata": {},
     "output_type": "execute_result"
    }
   ],
   "source": [
    "conn.recv(BUFFER_SIZE)"
   ]
  },
  {
   "cell_type": "markdown",
   "id": "dba23e51",
   "metadata": {},
   "source": [
    "\n",
    "## Playing the game\n",
    "The two players should be able to share data with each other."
   ]
  },
  {
   "cell_type": "code",
   "execution_count": 171,
   "id": "3853ccd8",
   "metadata": {},
   "outputs": [
    {
     "data": {
      "text/plain": [
       "36"
      ]
     },
     "execution_count": 171,
     "metadata": {},
     "output_type": "execute_result"
    }
   ],
   "source": [
    "conn.send(\n",
    "    b'f{\"X\":1, \"Y\":1, \"Dx\":999, \"Dy\":999}\\n'\n",
    ")"
   ]
  },
  {
   "cell_type": "code",
   "execution_count": 172,
   "id": "9d9e3128",
   "metadata": {},
   "outputs": [
    {
     "data": {
      "text/plain": [
       "b'BT{\"X\":0,\"Y\":0,\"Dx\":0,\"Dy\":0,\"ID\":21}\\nBT{\"X\":0,\"Y\":0,\"Dx\":0,\"Dy\":0,\"ID\":22}\\nF{\"Players\":[{\"Name\":\"jim\",\"X\":1,\"Y\":1,\"Dx\":999,\"Dy\":999},{\"Name\":\"bob\",\"X\":0,\"Y\":0,\"Dx\":0,\"Dy\":0}],\"State\":1,\"Name\":\"vzwexzfv\"}\\nBT{\"X\":0,\"Y\":0,\"Dx\":0,\"Dy\":0,\"ID\":23}\\nBT{\"X\":0,\"Y\":0,\"Dx\":0,\"Dy\":0,\"ID\":24}\\n'"
      ]
     },
     "execution_count": 172,
     "metadata": {},
     "output_type": "execute_result"
    }
   ],
   "source": [
    "conn.recv(BUFFER_SIZE)"
   ]
  },
  {
   "cell_type": "markdown",
   "id": "659a2a09",
   "metadata": {},
   "source": [
    "subequent reads should have different values for player 1, becuase Dx and Dy move the player along like so"
   ]
  },
  {
   "cell_type": "code",
   "execution_count": 173,
   "id": "4299719b",
   "metadata": {},
   "outputs": [
    {
     "data": {
      "text/plain": [
       "32"
      ]
     },
     "execution_count": 173,
     "metadata": {},
     "output_type": "execute_result"
    }
   ],
   "source": [
    "import time\n",
    "time.sleep(1)\n",
    "\n",
    "conn2.send(b'f{\"X\":1, \"Y\":1, \"Dx\":0, \"Dy\":0}\\n')\n"
   ]
  },
  {
   "cell_type": "code",
   "execution_count": 174,
   "id": "d891bdb6",
   "metadata": {},
   "outputs": [
    {
     "data": {
      "text/plain": [
       "b'BT{\"X\":0,\"Y\":0,\"Dx\":0,\"Dy\":0,\"ID\":19}\\nBT{\"X\":0,\"Y\":0,\"Dx\":0,\"Dy\":0,\"ID\":20}\\nBT{\"X\":0,\"Y\":0,\"Dx\":0,\"Dy\":0,\"ID\":21}\\nBT{\"X\":0,\"Y\":0,\"Dx\":0,\"Dy\":0,\"ID\":22}\\nBT{\"X\":0,\"Y\":0,\"Dx\":0,\"Dy\":0,\"ID\":23}\\nBT{\"X\":0,\"Y\":0,\"Dx\":0,\"Dy\":0,\"ID\":24}\\nBT{\"X\":0,\"Y\":0,\"Dx\":0,\"Dy\":0,\"ID\":25}\\nBT{\"X\":0,\"Y\":0,\"Dx\":0,\"Dy\":0,\"ID\":26}\\nBT{\"X\":0,\"Y\":0,\"Dx\":0,\"Dy\":0,\"ID\":27}\\nBT{\"X\":0,\"Y\":0,\"Dx\":0,\"Dy\":0,\"ID\":28}\\nBT{\"X\":0,\"Y\":0,\"Dx\":0,\"Dy\":0,\"ID\":29}\\nBT{\"X\":0,\"Y\":0,\"Dx\":0,\"Dy\":0,\"ID\":30}\\nBT{\"X\":0,\"Y\":0,\"Dx\":0,\"Dy\":0,\"ID\":31}\\nBT{\"X\":0,\"Y\":0,\"Dx\":0,\"Dy\":0,\"ID\":32}\\nBT{\"X\":0,\"Y\":0,\"Dx\":0,\"Dy\":0,\"ID\":33}\\nBT{\"X\":0,\"Y\":0,\"Dx\":0,\"Dy\":0,\"ID\":34}\\nBT{\"X\":0,\"Y\":0,\"Dx\":0,\"Dy\":0,\"ID\":35}\\nBT{\"X\":0,\"Y\":0,\"Dx\":0,\"Dy\":0,\"ID\":36}\\nBT{\"X\":0,\"Y\":0,\"Dx\":0,\"Dy\":0,\"ID\":37}\\nBT{\"X\":0,\"Y\":0,\"Dx\":0,\"Dy\":0,\"ID\":38}\\nBT{\"X\":0,\"Y\":0,\"Dx\":0,\"Dy\":0,\"ID\":39}\\nBT{\"X\":0,\"Y\":0,\"Dx\":0,\"Dy\":0,\"ID\":40}\\nBT{\"X\":0,\"Y\":0,\"Dx\":0,\"Dy\":0,\"ID\":41}\\nBT{\"X\":0,\"Y\":0,\"Dx\":0,\"Dy\":0,\"ID\":42}\\nBT{\"X\":0,\"Y\":0,\"Dx\":0,\"Dy\":0,\"ID\":43}\\nBT{\"X\":0,\"Y\":0,\"Dx\":0,\"Dy\":0,\"ID\":44}\\nBT{\"X\":0,\"Y\":0,\"Dx\":0,\"Dy\":0,\"ID\":45'"
      ]
     },
     "execution_count": 174,
     "metadata": {},
     "output_type": "execute_result"
    }
   ],
   "source": [
    "conn2.recv(BUFFER_SIZE)"
   ]
  },
  {
   "cell_type": "markdown",
   "id": "13abbc7b",
   "metadata": {},
   "source": [
    "## Error cases"
   ]
  },
  {
   "cell_type": "code",
   "execution_count": 175,
   "id": "1a5a1fad",
   "metadata": {},
   "outputs": [],
   "source": [
    "conn3 = s.socket(s.AF_INET, s.SOCK_STREAM)\n",
    "conn3.connect((\"127.0.0.1\", 80))"
   ]
  },
  {
   "cell_type": "markdown",
   "id": "43694e18",
   "metadata": {},
   "source": [
    "### Joining a game without a name"
   ]
  },
  {
   "cell_type": "code",
   "execution_count": 176,
   "id": "7e5410cd",
   "metadata": {},
   "outputs": [
    {
     "data": {
      "text/plain": [
       "b'ECannot join a game when you do not have a name.\\n'"
      ]
     },
     "execution_count": 176,
     "metadata": {},
     "output_type": "execute_result"
    }
   ],
   "source": [
    "conn3.send(b'j{\"Name\":\"' + trimmed + b'\"}\\n')\n",
    "conn3.recv(BUFFER_SIZE)"
   ]
  },
  {
   "cell_type": "markdown",
   "id": "800977d3",
   "metadata": {},
   "source": [
    "resolve this issue like so:"
   ]
  },
  {
   "cell_type": "code",
   "execution_count": 177,
   "id": "87a7972c",
   "metadata": {},
   "outputs": [
    {
     "data": {
      "text/plain": [
       "b'NJoe\\n'"
      ]
     },
     "execution_count": 177,
     "metadata": {},
     "output_type": "execute_result"
    }
   ],
   "source": [
    "conn3.send(b'nJoe\\n')\n",
    "conn3.recv(BUFFER_SIZE)"
   ]
  },
  {
   "cell_type": "markdown",
   "id": "a73a451a",
   "metadata": {},
   "source": [
    "### Joining a full/running game \n",
    "This should fail and return an error packet explaining why"
   ]
  },
  {
   "cell_type": "code",
   "execution_count": 178,
   "id": "d84e3fe1",
   "metadata": {},
   "outputs": [
    {
     "data": {
      "text/plain": [
       "b'Ecould not join game\\n'"
      ]
     },
     "execution_count": 178,
     "metadata": {},
     "output_type": "execute_result"
    }
   ],
   "source": [
    "conn3.send(b'j' + trimmed + b'\\n')\n",
    "conn3.recv(BUFFER_SIZE)"
   ]
  },
  {
   "cell_type": "markdown",
   "id": "c8f3bc59",
   "metadata": {},
   "source": [
    "### Creating a game with 1 player and attempting to send a frame\n",
    "This should fail and return an error packet explaining why"
   ]
  },
  {
   "cell_type": "code",
   "execution_count": 179,
   "id": "ccf9a265",
   "metadata": {},
   "outputs": [
    {
     "data": {
      "text/plain": [
       "b'EGame not started yet\\n'"
      ]
     },
     "execution_count": 179,
     "metadata": {},
     "output_type": "execute_result"
    }
   ],
   "source": [
    "conn3.send(b'c\\n')\n",
    "conn3.recv(BUFFER_SIZE)#i dont care what the game id is\n",
    "\n",
    "conn3.send(\n",
    "    b'f{\"X\":1, \"Y\":1, \"Dx\":0, \"Dy\":0}\\n'\n",
    ")\n",
    "conn3.recv(BUFFER_SIZE)"
   ]
  },
  {
   "cell_type": "markdown",
   "id": "44a4e5ee",
   "metadata": {},
   "source": [
    "### Wrong names"
   ]
  },
  {
   "cell_type": "code",
   "execution_count": 180,
   "id": "5a232a1e",
   "metadata": {},
   "outputs": [],
   "source": [
    "conn4 = s.socket(s.AF_INET, s.SOCK_STREAM)\n",
    "conn4.connect((\"127.0.0.1\", 80))"
   ]
  },
  {
   "cell_type": "markdown",
   "id": "2938bd9e",
   "metadata": {},
   "source": [
    "#### Not submitting a name\n",
    "will return error"
   ]
  },
  {
   "cell_type": "code",
   "execution_count": 181,
   "id": "e0f3b177",
   "metadata": {},
   "outputs": [
    {
     "data": {
      "text/plain": [
       "b'EName was either not long enough, too long, or contained banned characters.\\n'"
      ]
     },
     "execution_count": 181,
     "metadata": {},
     "output_type": "execute_result"
    }
   ],
   "source": [
    "conn4.send(b\"n\\n\")\n",
    "conn4.recv(BUFFER_SIZE)"
   ]
  },
  {
   "cell_type": "markdown",
   "id": "3c0a6f6a",
   "metadata": {},
   "source": [
    "#### Submitting a name that is too long\n",
    "This will also return an error explaining why"
   ]
  },
  {
   "cell_type": "code",
   "execution_count": 182,
   "id": "824d2330",
   "metadata": {},
   "outputs": [
    {
     "data": {
      "text/plain": [
       "b'EName was either not long enough, too long, or contained banned characters.\\n'"
      ]
     },
     "execution_count": 182,
     "metadata": {},
     "output_type": "execute_result"
    }
   ],
   "source": [
    "conn4.send(b\"nmy obnoxiously massive name I chose to play as which does not make the game look fun and also could pose a risk of exploits for the server; DROP *;\\n\")\n",
    "conn4.recv(BUFFER_SIZE)"
   ]
  },
  {
   "cell_type": "markdown",
   "id": "14665f4a",
   "metadata": {},
   "source": [
    "#### All talk?\n",
    "I try to create a game after all this to catch any bug that may have slipped through"
   ]
  },
  {
   "cell_type": "code",
   "execution_count": 183,
   "id": "40ffe8b8",
   "metadata": {},
   "outputs": [
    {
     "data": {
      "text/plain": [
       "b'ECannot create a game without having a name.\\n'"
      ]
     },
     "execution_count": 183,
     "metadata": {},
     "output_type": "execute_result"
    }
   ],
   "source": [
    "conn4.send(b\"c\\n\")\n",
    "conn4.recv(BUFFER_SIZE)"
   ]
  },
  {
   "cell_type": "markdown",
   "id": "3e30c5df",
   "metadata": {},
   "source": [
    "## The target broadcasts\n",
    "These should arrive on average every 5 seconds, so this is called after everyting with a 10s delay"
   ]
  },
  {
   "cell_type": "code",
   "execution_count": 184,
   "id": "f74c0952",
   "metadata": {},
   "outputs": [],
   "source": [
    "sleep(10)"
   ]
  },
  {
   "cell_type": "code",
   "execution_count": 185,
   "id": "28dd9c65",
   "metadata": {},
   "outputs": [
    {
     "data": {
      "text/plain": [
       "b'BT{\"X\":0,\"Y\":0,\"Dx\":0,\"Dy\":0,\"ID\":25}\\nBT{\"X\":0,\"Y\":0,\"Dx\":0,\"Dy\":0,\"ID\":26}\\nBT{\"X\":0,\"Y\":0,\"Dx\":0,\"Dy\":0,\"ID\":27}\\nBT{\"X\":0,\"Y\":0,\"Dx\":0,\"Dy\":0,\"ID\":28}\\nBT{\"X\":0,\"Y\":0,\"Dx\":0,\"Dy\":0,\"ID\":29}\\nBT{\"X\":0,\"Y\":0,\"Dx\":0,\"Dy\":0,\"ID\":30}\\nBT{\"X\":0,\"Y\":0,\"Dx\":0,\"Dy\":0,\"ID\":31}\\nBT{\"X\":0,\"Y\":0,\"Dx\":0,\"Dy\":0,\"ID\":32}\\nBT{\"X\":0,\"Y\":0,\"Dx\":0,\"Dy\":0,\"ID\":33}\\nBT{\"X\":0,\"Y\":0,\"Dx\":0,\"Dy\":0,\"ID\":34}\\nBT{\"X\":0,\"Y\":0,\"Dx\":0,\"Dy\":0,\"ID\":35}\\nBT{\"X\":0,\"Y\":0,\"Dx\":0,\"Dy\":0,\"ID\":36}\\nBT{\"X\":0,\"Y\":0,\"Dx\":0,\"Dy\":0,\"ID\":37}\\nBT{\"X\":0,\"Y\":0,\"Dx\":0,\"Dy\":0,\"ID\":38}\\nBT{\"X\":0,\"Y\":0,\"Dx\":0,\"Dy\":0,\"ID\":39}\\nBT{\"X\":0,\"Y\":0,\"Dx\":0,\"Dy\":0,\"ID\":40}\\nBT{\"X\":0,\"Y\":0,\"Dx\":0,\"Dy\":0,\"ID\":41}\\nBT{\"X\":0,\"Y\":0,\"Dx\":0,\"Dy\":0,\"ID\":42}\\nBT{\"X\":0,\"Y\":0,\"Dx\":0,\"Dy\":0,\"ID\":43}\\nBT{\"X\":0,\"Y\":0,\"Dx\":0,\"Dy\":0,\"ID\":44}\\nBT{\"X\":0,\"Y\":0,\"Dx\":0,\"Dy\":0,\"ID\":45}\\nBT{\"X\":0,\"Y\":0,\"Dx\":0,\"Dy\":0,\"ID\":46}\\nBT{\"X\":0,\"Y\":0,\"Dx\":0,\"Dy\":0,\"ID\":47}\\nBT{\"X\":0,\"Y\":0,\"Dx\":0,\"Dy\":0,\"ID\":48}\\nBT{\"X\":0,\"Y\":0,\"Dx\":0,\"Dy\":0,\"ID\":49}\\nBT{\"X\":0,\"Y\":0,\"Dx\":0,\"Dy\":0,\"ID\":50}\\nBT{\"X\":0,\"Y\":0,\"Dx\":0,\"Dy\":0,\"ID\":51'"
      ]
     },
     "execution_count": 185,
     "metadata": {},
     "output_type": "execute_result"
    }
   ],
   "source": [
    "conn.recv(BUFFER_SIZE)"
   ]
  },
  {
   "cell_type": "code",
   "execution_count": 186,
   "id": "ae51e01e",
   "metadata": {},
   "outputs": [
    {
     "data": {
      "text/plain": [
       "b'}\\nBT{\"X\":0,\"Y\":0,\"Dx\":0,\"Dy\":0,\"ID\":46}\\nF{\"Players\":[{\"Name\":\"jim\",\"X\":1199.8000000000004,\"Y\":1199.8000000000004,\"Dx\":999,\"Dy\":999},{\"Name\":\"bob\",\"X\":1,\"Y\":1,\"Dx\":0,\"Dy\":0}],\"State\":1,\"Name\":\"vzwexzfv\"}\\nBT{\"X\":0,\"Y\":0,\"Dx\":0,\"Dy\":0,\"ID\":47}\\nBT{\"X\":0,\"Y\":0,\"Dx\":0,\"Dy\":0,\"ID\":48}\\nBT{\"X\":0,\"Y\":0,\"Dx\":0,\"Dy\":0,\"ID\":49}\\nBT{\"X\":0,\"Y\":0,\"Dx\":0,\"Dy\":0,\"ID\":50}\\nBT{\"X\":0,\"Y\":0,\"Dx\":0,\"Dy\":0,\"ID\":51}\\nBT{\"X\":0,\"Y\":0,\"Dx\":0,\"Dy\":0,\"ID\":52}\\nBT{\"X\":0,\"Y\":0,\"Dx\":0,\"Dy\":0,\"ID\":53}\\nBT{\"X\":0,\"Y\":0,\"Dx\":0,\"Dy\":0,\"ID\":54}\\nBT{\"X\":0,\"Y\":0,\"Dx\":0,\"Dy\":0,\"ID\":55}\\nBT{\"X\":0,\"Y\":0,\"Dx\":0,\"Dy\":0,\"ID\":56}\\nBT{\"X\":0,\"Y\":0,\"Dx\":0,\"Dy\":0,\"ID\":57}\\nBT{\"X\":0,\"Y\":0,\"Dx\":0,\"Dy\":0,\"ID\":58}\\nBT{\"X\":0,\"Y\":0,\"Dx\":0,\"Dy\":0,\"ID\":59}\\nBT{\"X\":0,\"Y\":0,\"Dx\":0,\"Dy\":0,\"ID\":60}\\nBT{\"X\":0,\"Y\":0,\"Dx\":0,\"Dy\":0,\"ID\":61}\\nBT{\"X\":0,\"Y\":0,\"Dx\":0,\"Dy\":0,\"ID\":62}\\nBT{\"X\":0,\"Y\":0,\"Dx\":0,\"Dy\":0,\"ID\":63}\\nBT{\"X\":0,\"Y\":0,\"Dx\":0,\"Dy\":0,\"ID\":64}\\nBT{\"X\":0,\"Y\":0,\"Dx\":0,\"Dy\":0,\"ID\":65}\\nBT{\"X\":0,\"Y\":0,\"Dx\":0,\"Dy\":0,\"ID\":66}\\nBT{\"X\":0,\"Y\":0,\"Dx\":0,\"Dy\":0,\"ID\":67}\\nBT{\"X\":0,\"Y\":0,\"Dx\":0,\"'"
      ]
     },
     "execution_count": 186,
     "metadata": {},
     "output_type": "execute_result"
    }
   ],
   "source": [
    "conn2.recv(BUFFER_SIZE)"
   ]
  }
 ],
 "metadata": {
  "kernelspec": {
   "display_name": "Python 3 (ipykernel)",
   "language": "python",
   "name": "python3"
  },
  "language_info": {
   "codemirror_mode": {
    "name": "ipython",
    "version": 3
   },
   "file_extension": ".py",
   "mimetype": "text/x-python",
   "name": "python",
   "nbconvert_exporter": "python",
   "pygments_lexer": "ipython3",
   "version": "3.11.2"
  }
 },
 "nbformat": 4,
 "nbformat_minor": 5
}
