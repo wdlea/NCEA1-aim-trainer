{
 "cells": [
  {
   "cell_type": "markdown",
   "id": "df533078",
   "metadata": {},
   "source": [
    "# Server Test\n",
    "> This is the code I am using to test the server. In this test, I will use 2 connections and attempt to make the join the same game."
   ]
  },
  {
   "cell_type": "code",
   "execution_count": 213,
   "id": "83c6008e",
   "metadata": {},
   "outputs": [],
   "source": [
    "import socket as s"
   ]
  },
  {
   "cell_type": "markdown",
   "id": "77f3c830",
   "metadata": {},
   "source": [
    "## Connecting to server\n",
    "\n",
    "I connect to the GO server on port 80(configured in docker)."
   ]
  },
  {
   "cell_type": "code",
   "execution_count": 214,
   "id": "00e569e1",
   "metadata": {},
   "outputs": [],
   "source": [
    "conn = s.socket(s.AF_INET, s.SOCK_STREAM)\n",
    "conn.connect((\"127.0.0.1\", 80))"
   ]
  },
  {
   "cell_type": "markdown",
   "id": "307c6fb4",
   "metadata": {},
   "source": [
    "## Sending packets\n",
    "\n",
    "All packets must be suffixed with \\n. This is a python implemtation of how to send them:"
   ]
  },
  {
   "cell_type": "code",
   "execution_count": 215,
   "id": "98561186",
   "metadata": {},
   "outputs": [],
   "source": [
    "# Sends a packet, returns whatever socket.Send returns\n",
    "def send_packet(content: bytes):\n",
    "    global conn\n",
    "    return conn.send(content + b'\\n')\n"
   ]
  },
  {
   "cell_type": "markdown",
   "id": "dcdf4c39",
   "metadata": {},
   "source": [
    "## Creating a game\n",
    "\n",
    "I need to send a packet with 'c' as the first character to intialise a game:"
   ]
  },
  {
   "cell_type": "code",
   "execution_count": 216,
   "id": "631cbdd3",
   "metadata": {},
   "outputs": [
    {
     "data": {
      "text/plain": [
       "2"
      ]
     },
     "execution_count": 216,
     "metadata": {},
     "output_type": "execute_result"
    }
   ],
   "source": [
    "send_packet(b'c')"
   ]
  },
  {
   "cell_type": "markdown",
   "id": "84ccf849",
   "metadata": {},
   "source": [
    "In response, I should get a packet with the *game code*."
   ]
  },
  {
   "cell_type": "code",
   "execution_count": 217,
   "id": "12301640",
   "metadata": {},
   "outputs": [],
   "source": [
    "BUFFER_SIZE = 1024\n",
    "\n",
    "def recieve_packet() -> bytes:\n",
    "    return conn.recv(BUFFER_SIZE)"
   ]
  },
  {
   "cell_type": "code",
   "execution_count": 218,
   "id": "a13113de",
   "metadata": {},
   "outputs": [],
   "source": [
    "packet = recieve_packet()"
   ]
  },
  {
   "cell_type": "code",
   "execution_count": 219,
   "id": "a7dc56b9",
   "metadata": {},
   "outputs": [],
   "source": [
    "trimmed = packet[1:]\n",
    "import json\n",
    "packetDict = json.loads(trimmed)"
   ]
  },
  {
   "cell_type": "markdown",
   "id": "74e6cd2c",
   "metadata": {},
   "source": [
    "## User 2\n",
    "\n",
    "I will attempt to join the game as another user"
   ]
  },
  {
   "cell_type": "code",
   "execution_count": 220,
   "id": "1f7f99c8",
   "metadata": {},
   "outputs": [],
   "source": [
    "conn2 = s.socket(s.AF_INET, s.SOCK_STREAM)\n",
    "conn2.connect((\"127.0.0.1\", 80))"
   ]
  },
  {
   "cell_type": "code",
   "execution_count": 221,
   "id": "ffa6283c",
   "metadata": {},
   "outputs": [
    {
     "data": {
      "text/plain": [
       "b'Jsuccess\\n'"
      ]
     },
     "execution_count": 221,
     "metadata": {},
     "output_type": "execute_result"
    }
   ],
   "source": [
    "conn2.send(b'j{\"Name\":\"' + packetDict['Name'].encode() + b'\"}\\n')\n",
    "conn2.recv(BUFFER_SIZE)"
   ]
  },
  {
   "cell_type": "markdown",
   "id": "dba23e51",
   "metadata": {},
   "source": [
    "\n",
    "## Playing the game\n",
    "The two players should be able to share data with each other."
   ]
  },
  {
   "cell_type": "code",
   "execution_count": 222,
   "id": "3853ccd8",
   "metadata": {},
   "outputs": [
    {
     "data": {
      "text/plain": [
       "36"
      ]
     },
     "execution_count": 222,
     "metadata": {},
     "output_type": "execute_result"
    }
   ],
   "source": [
    "conn.send(\n",
    "    b'f{\"X\":1, \"Y\":1, \"Dx\":999, \"Dy\":999}\\n'\n",
    ")"
   ]
  },
  {
   "cell_type": "code",
   "execution_count": 223,
   "id": "9d9e3128",
   "metadata": {},
   "outputs": [
    {
     "data": {
      "text/plain": [
       "b'F{\"Players\":[{\"Name\":\"wjlwpxyfld\",\"X\":1,\"Y\":1,\"Dx\":999,\"Dy\":999},{\"Name\":\"mwdvnwcdmj\",\"X\":0,\"Y\":0,\"Dx\":0,\"Dy\":0}],\"State\":1,\"Name\":\"oianydbk\"}\\n'"
      ]
     },
     "execution_count": 223,
     "metadata": {},
     "output_type": "execute_result"
    }
   ],
   "source": [
    "conn.recv(BUFFER_SIZE)"
   ]
  },
  {
   "cell_type": "markdown",
   "id": "659a2a09",
   "metadata": {},
   "source": [
    "subequent reads should have different values for player 1, becuase Dx and Dy move the player along like so"
   ]
  },
  {
   "cell_type": "code",
   "execution_count": 224,
   "id": "4299719b",
   "metadata": {},
   "outputs": [
    {
     "data": {
      "text/plain": [
       "b'F{\"Players\":[{\"Name\":\"wjlwpxyfld\",\"X\":1,\"Y\":1,\"Dx\":999,\"Dy\":999},{\"Name\":\"mwdvnwcdmj\",\"X\":1,\"Y\":1,\"Dx\":0,\"Dy\":0}],\"State\":1,\"Name\":\"oianydbk\"}\\n'"
      ]
     },
     "execution_count": 224,
     "metadata": {},
     "output_type": "execute_result"
    }
   ],
   "source": [
    "import time\n",
    "time.sleep(1)\n",
    "\n",
    "conn2.send(\n",
    "    b'f{\"X\":1, \"Y\":1, \"Dx\":0, \"Dy\":0}\\n'\n",
    ")\n",
    "conn2.recv(BUFFER_SIZE)"
   ]
  },
  {
   "cell_type": "markdown",
   "id": "13abbc7b",
   "metadata": {},
   "source": [
    "## Error cases"
   ]
  },
  {
   "cell_type": "code",
   "execution_count": 225,
   "id": "1a5a1fad",
   "metadata": {},
   "outputs": [],
   "source": [
    "conn3 = s.socket(s.AF_INET, s.SOCK_STREAM)\n",
    "conn3.connect((\"127.0.0.1\", 80))"
   ]
  },
  {
   "cell_type": "markdown",
   "id": "a73a451a",
   "metadata": {},
   "source": [
    "### Joining full/running game\n",
    "This should fail and return an error packet explaining why"
   ]
  },
  {
   "cell_type": "code",
   "execution_count": 226,
   "id": "d84e3fe1",
   "metadata": {},
   "outputs": [
    {
     "data": {
      "text/plain": [
       "b'Ecould not join game\\n'"
      ]
     },
     "execution_count": 226,
     "metadata": {},
     "output_type": "execute_result"
    }
   ],
   "source": [
    "conn3.send(b'j{\"Name\":\"' + packetDict['Name'].encode() + b'\"}\\n')\n",
    "conn3.recv(BUFFER_SIZE)"
   ]
  },
  {
   "cell_type": "markdown",
   "id": "c8f3bc59",
   "metadata": {},
   "source": [
    "### Creating a game with 1 player and attempting to send a frame\n",
    "This should fail and return an error packet explaining why"
   ]
  },
  {
   "cell_type": "code",
   "execution_count": 227,
   "id": "ccf9a265",
   "metadata": {},
   "outputs": [
    {
     "data": {
      "text/plain": [
       "b'EGame not started yet\\n'"
      ]
     },
     "execution_count": 227,
     "metadata": {},
     "output_type": "execute_result"
    }
   ],
   "source": [
    "conn3.send(b'c\\n')\n",
    "conn3.recv(BUFFER_SIZE)#i dont care what the game id is\n",
    "\n",
    "conn3.send(\n",
    "    b'f{\"X\":1, \"Y\":1, \"Dx\":0, \"Dy\":0}\\n'\n",
    ")\n",
    "conn3.recv(BUFFER_SIZE)"
   ]
  },
  {
   "cell_type": "markdown",
   "id": "f4c2f854",
   "metadata": {},
   "source": [
    "# Logs\n",
    "\n",
    "> Here are the logs on the server from one run if you're interested.\n",
    "\n",
    "> I restarted the notebook so it actually ran twice to see how the server handles creating and destroying connections, I had to implement mutexes to stop the server crashing. You can see where connections were closed becuase of the EOF errors, which trigger the server to abandon the connection.\n",
    "\n",
    "> It's not very ordered becuase this is a multithreaded server meaning:\n",
    ">   - Computers are already pretty fast so there is not much difference in times\n",
    ">   - This specific computer is managing up to 3 connections simultaneously\n",
    ">\n",
    "> This produced the mess you see below becuase only one thread can write to stdout at a time\n",
    "\n",
    "    2023-08-18 19:13:47 Press enter to stop server\n",
    "    2023-08-18 19:13:52 New player connection from 172.17.0.1:43980 \n",
    "    2023-08-18 19:13:52 Player fbwfpvejac attempting to host game\n",
    "    2023-08-18 19:13:52 Player fbwfpvejac leaving game\n",
    "    2023-08-18 19:13:52 Player fbwfpvejac is having thier position reset\n",
    "    2023-08-18 19:13:52 New player connection from 172.17.0.1:43998 \n",
    "    2023-08-18 19:13:52 Player qzpsvmiryr joining game mlgnopdk\n",
    "    2023-08-18 19:13:52 Player qzpsvmiryr leaving game\n",
    "    2023-08-18 19:13:52 Player qzpsvmiryr is having thier position reset\n",
    "    2023-08-18 19:13:52 Player fbwfpvejac applying frame\n",
    "    2023-08-18 19:13:53 Player qzpsvmiryr applying frame\n",
    "    2023-08-18 19:13:53 New player connection from 172.17.0.1:44024 \n",
    "    2023-08-18 19:13:54 Player mpxtqjfzkx joining game mlgnopdk\n",
    "    2023-08-18 19:13:54 Player mpxtqjfzkx leaving game\n",
    "    2023-08-18 19:13:54 Player mpxtqjfzkx attempting to host game\n",
    "    2023-08-18 19:13:54 Player mpxtqjfzkx leaving game\n",
    "    2023-08-18 19:13:54 Player mpxtqjfzkx is having thier position reset\n",
    "    2023-08-18 19:13:54 Player mpxtqjfzkx applying frame\n",
    "    2023-08-18 19:14:39 Error while recieving fron conn: EOF, closing... \n",
    "    2023-08-18 19:14:39 Conn closed\n",
    "    2023-08-18 19:14:39 Player fbwfpvejac is being disposed\n",
    "    2023-08-18 19:14:39 Player fbwfpvejac leaving game\n",
    "    2023-08-18 19:14:39 New player connection from 172.17.0.1:35708 \n",
    "    2023-08-18 19:14:39 Player yogwcqyzzl attempting to host game\n",
    "    2023-08-18 19:14:39 Player yogwcqyzzl leaving game\n",
    "    2023-08-18 19:14:39 Player yogwcqyzzl is having thier position reset\n",
    "    2023-08-18 19:14:39 Error while recieving fron conn: EOF, closing... \n",
    "    2023-08-18 19:14:39 Conn closed\n",
    "    2023-08-18 19:14:39 Player qzpsvmiryr is being disposed\n",
    "    2023-08-18 19:14:39 Player qzpsvmiryr leaving game\n",
    "    2023-08-18 19:14:39 New player connection from 172.17.0.1:35722 \n",
    "    2023-08-18 19:14:39 Player fmpidfrwsz joining game ctxddnbz\n",
    "    2023-08-18 19:14:39 Player fmpidfrwsz leaving game\n",
    "    2023-08-18 19:14:39 Player fmpidfrwsz is having thier position reset\n",
    "    2023-08-18 19:14:40 Player yogwcqyzzl applying frame\n",
    "    2023-08-18 19:14:41 Player fmpidfrwsz applying frame\n",
    "    2023-08-18 19:14:41 Error while recieving fron conn: EOF, closing... \n",
    "    2023-08-18 19:14:41 Conn closed\n",
    "    2023-08-18 19:14:41 Player mpxtqjfzkx is being disposed\n",
    "    2023-08-18 19:14:41 Player mpxtqjfzkx leaving game\n",
    "    2023-08-18 19:14:41 New player connection from 172.17.0.1:35742 \n",
    "    2023-08-18 19:14:41 Player ptvmfuduas joining game ctxddnbz\n",
    "    2023-08-18 19:14:41 Player ptvmfuduas leaving game\n",
    "    2023-08-18 19:14:41 Player ptvmfuduas attempting to host game\n",
    "    2023-08-18 19:14:41 Player ptvmfuduas leaving game\n",
    "    2023-08-18 19:14:41 Player ptvmfuduas is having thier position reset\n",
    "    2023-08-18 19:14:41 Player ptvmfuduas applying frame\n"
   ]
  }
 ],
 "metadata": {
  "kernelspec": {
   "display_name": "Python 3 (ipykernel)",
   "language": "python",
   "name": "python3"
  },
  "language_info": {
   "codemirror_mode": {
    "name": "ipython",
    "version": 3
   },
   "file_extension": ".py",
   "mimetype": "text/x-python",
   "name": "python",
   "nbconvert_exporter": "python",
   "pygments_lexer": "ipython3",
   "version": "3.11.2"
  }
 },
 "nbformat": 4,
 "nbformat_minor": 5
}
