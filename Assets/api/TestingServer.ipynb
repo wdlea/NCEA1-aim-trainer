{
 "cells": [
  {
   "cell_type": "markdown",
   "id": "df533078",
   "metadata": {},
   "source": [
    "# Server Test\n",
    "> This is the code I am using to test the server. In this test, I will use 2 connections and attempt to make the join the same game."
   ]
  },
  {
   "cell_type": "code",
   "execution_count": 38,
   "id": "83c6008e",
   "metadata": {},
   "outputs": [],
   "source": [
    "import socket as s"
   ]
  },
  {
   "cell_type": "markdown",
   "id": "77f3c830",
   "metadata": {},
   "source": [
    "## Connecting to server\n",
    "\n",
    "I connect to the GO server on port 80(configured in docker)."
   ]
  },
  {
   "cell_type": "code",
   "execution_count": 39,
   "id": "00e569e1",
   "metadata": {},
   "outputs": [],
   "source": [
    "conn = s.socket(s.AF_INET, s.SOCK_STREAM)\n",
    "conn.connect((\"127.0.0.1\", 80))"
   ]
  },
  {
   "cell_type": "markdown",
   "id": "307c6fb4",
   "metadata": {},
   "source": [
    "## Sending packets\n",
    "\n",
    "All packets must be suffixed with \\n. This is a python implemtation of how to send them:"
   ]
  },
  {
   "cell_type": "code",
   "execution_count": 40,
   "id": "98561186",
   "metadata": {},
   "outputs": [],
   "source": [
    "# Sends a packet, returns whatever socket.Send returns\n",
    "def send_packet(content: bytes):\n",
    "    global conn\n",
    "    return conn.send(content + b'\\n')\n"
   ]
  },
  {
   "cell_type": "markdown",
   "id": "dcdf4c39",
   "metadata": {},
   "source": [
    "## Creating a game\n",
    "\n",
    "I need to send a packet with 'c' as the first character to intialise a game:"
   ]
  },
  {
   "cell_type": "code",
   "execution_count": 41,
   "id": "631cbdd3",
   "metadata": {},
   "outputs": [
    {
     "data": {
      "text/plain": [
       "2"
      ]
     },
     "execution_count": 41,
     "metadata": {},
     "output_type": "execute_result"
    }
   ],
   "source": [
    "send_packet(b'c')"
   ]
  },
  {
   "cell_type": "markdown",
   "id": "84ccf849",
   "metadata": {},
   "source": [
    "In response, I should get a packet with the *game code*."
   ]
  },
  {
   "cell_type": "code",
   "execution_count": 42,
   "id": "12301640",
   "metadata": {},
   "outputs": [],
   "source": [
    "BUFFER_SIZE = 1024\n",
    "\n",
    "def recieve_packet() -> bytes:\n",
    "    return conn.recv(BUFFER_SIZE)"
   ]
  },
  {
   "cell_type": "markdown",
   "id": "c50b7881",
   "metadata": {},
   "source": [
    "## Recieve the response from creating the game"
   ]
  },
  {
   "cell_type": "code",
   "execution_count": 43,
   "id": "26bbe63c",
   "metadata": {},
   "outputs": [
    {
     "data": {
      "text/plain": [
       "b'ECannot create a game without having a name.\\nC{\"Ok\":true,\"Name\":\"ltwpvtjw\"}\\n'"
      ]
     },
     "execution_count": 43,
     "metadata": {},
     "output_type": "execute_result"
    }
   ],
   "source": [
    "recieve_packet()"
   ]
  },
  {
   "cell_type": "code",
   "execution_count": 44,
   "id": "a13113de",
   "metadata": {},
   "outputs": [],
   "source": [
    "packet = recieve_packet()"
   ]
  },
  {
   "cell_type": "code",
   "execution_count": null,
   "id": "a7dc56b9",
   "metadata": {},
   "outputs": [
    {
     "ename": "JSONDecodeError",
     "evalue": "Expecting value: line 1 column 1 (char 0)",
     "output_type": "error",
     "traceback": [
      "\u001b[0;31m---------------------------------------------------------------------------\u001b[0m",
      "\u001b[0;31mJSONDecodeError\u001b[0m                           Traceback (most recent call last)",
      "\u001b[1;32me:\\wdlea\\Documents\\Unity\\aimtrainerspeedrun\\Assets\\api\\TestingServer.ipynb Cell 12\u001b[0m in \u001b[0;36m3\n\u001b[1;32m      <a href='vscode-notebook-cell:/e%3A/wdlea/Documents/Unity/aimtrainerspeedrun/Assets/api/TestingServer.ipynb#X14sZmlsZQ%3D%3D?line=0'>1</a>\u001b[0m trimmed \u001b[39m=\u001b[39m packet[\u001b[39m1\u001b[39m:]\n\u001b[1;32m      <a href='vscode-notebook-cell:/e%3A/wdlea/Documents/Unity/aimtrainerspeedrun/Assets/api/TestingServer.ipynb#X14sZmlsZQ%3D%3D?line=1'>2</a>\u001b[0m \u001b[39mimport\u001b[39;00m \u001b[39mjson\u001b[39;00m\n\u001b[0;32m----> <a href='vscode-notebook-cell:/e%3A/wdlea/Documents/Unity/aimtrainerspeedrun/Assets/api/TestingServer.ipynb#X14sZmlsZQ%3D%3D?line=2'>3</a>\u001b[0m packetDict \u001b[39m=\u001b[39m json\u001b[39m.\u001b[39;49mloads(trimmed)\n",
      "File \u001b[0;32m/usr/lib/python3.11/json/__init__.py:346\u001b[0m, in \u001b[0;36mloads\u001b[0;34m(s, cls, object_hook, parse_float, parse_int, parse_constant, object_pairs_hook, **kw)\u001b[0m\n\u001b[1;32m    341\u001b[0m     s \u001b[39m=\u001b[39m s\u001b[39m.\u001b[39mdecode(detect_encoding(s), \u001b[39m'\u001b[39m\u001b[39msurrogatepass\u001b[39m\u001b[39m'\u001b[39m)\n\u001b[1;32m    343\u001b[0m \u001b[39mif\u001b[39;00m (\u001b[39mcls\u001b[39m \u001b[39mis\u001b[39;00m \u001b[39mNone\u001b[39;00m \u001b[39mand\u001b[39;00m object_hook \u001b[39mis\u001b[39;00m \u001b[39mNone\u001b[39;00m \u001b[39mand\u001b[39;00m\n\u001b[1;32m    344\u001b[0m         parse_int \u001b[39mis\u001b[39;00m \u001b[39mNone\u001b[39;00m \u001b[39mand\u001b[39;00m parse_float \u001b[39mis\u001b[39;00m \u001b[39mNone\u001b[39;00m \u001b[39mand\u001b[39;00m\n\u001b[1;32m    345\u001b[0m         parse_constant \u001b[39mis\u001b[39;00m \u001b[39mNone\u001b[39;00m \u001b[39mand\u001b[39;00m object_pairs_hook \u001b[39mis\u001b[39;00m \u001b[39mNone\u001b[39;00m \u001b[39mand\u001b[39;00m \u001b[39mnot\u001b[39;00m kw):\n\u001b[0;32m--> 346\u001b[0m     \u001b[39mreturn\u001b[39;00m _default_decoder\u001b[39m.\u001b[39;49mdecode(s)\n\u001b[1;32m    347\u001b[0m \u001b[39mif\u001b[39;00m \u001b[39mcls\u001b[39m \u001b[39mis\u001b[39;00m \u001b[39mNone\u001b[39;00m:\n\u001b[1;32m    348\u001b[0m     \u001b[39mcls\u001b[39m \u001b[39m=\u001b[39m JSONDecoder\n",
      "File \u001b[0;32m/usr/lib/python3.11/json/decoder.py:337\u001b[0m, in \u001b[0;36mJSONDecoder.decode\u001b[0;34m(self, s, _w)\u001b[0m\n\u001b[1;32m    332\u001b[0m \u001b[39mdef\u001b[39;00m \u001b[39mdecode\u001b[39m(\u001b[39mself\u001b[39m, s, _w\u001b[39m=\u001b[39mWHITESPACE\u001b[39m.\u001b[39mmatch):\n\u001b[1;32m    333\u001b[0m \u001b[39m    \u001b[39m\u001b[39m\"\"\"Return the Python representation of ``s`` (a ``str`` instance\u001b[39;00m\n\u001b[1;32m    334\u001b[0m \u001b[39m    containing a JSON document).\u001b[39;00m\n\u001b[1;32m    335\u001b[0m \n\u001b[1;32m    336\u001b[0m \u001b[39m    \"\"\"\u001b[39;00m\n\u001b[0;32m--> 337\u001b[0m     obj, end \u001b[39m=\u001b[39m \u001b[39mself\u001b[39;49m\u001b[39m.\u001b[39;49mraw_decode(s, idx\u001b[39m=\u001b[39;49m_w(s, \u001b[39m0\u001b[39;49m)\u001b[39m.\u001b[39;49mend())\n\u001b[1;32m    338\u001b[0m     end \u001b[39m=\u001b[39m _w(s, end)\u001b[39m.\u001b[39mend()\n\u001b[1;32m    339\u001b[0m     \u001b[39mif\u001b[39;00m end \u001b[39m!=\u001b[39m \u001b[39mlen\u001b[39m(s):\n",
      "File \u001b[0;32m/usr/lib/python3.11/json/decoder.py:355\u001b[0m, in \u001b[0;36mJSONDecoder.raw_decode\u001b[0;34m(self, s, idx)\u001b[0m\n\u001b[1;32m    353\u001b[0m     obj, end \u001b[39m=\u001b[39m \u001b[39mself\u001b[39m\u001b[39m.\u001b[39mscan_once(s, idx)\n\u001b[1;32m    354\u001b[0m \u001b[39mexcept\u001b[39;00m \u001b[39mStopIteration\u001b[39;00m \u001b[39mas\u001b[39;00m err:\n\u001b[0;32m--> 355\u001b[0m     \u001b[39mraise\u001b[39;00m JSONDecodeError(\u001b[39m\"\u001b[39m\u001b[39mExpecting value\u001b[39m\u001b[39m\"\u001b[39m, s, err\u001b[39m.\u001b[39mvalue) \u001b[39mfrom\u001b[39;00m \u001b[39mNone\u001b[39m\n\u001b[1;32m    356\u001b[0m \u001b[39mreturn\u001b[39;00m obj, end\n",
      "\u001b[0;31mJSONDecodeError\u001b[0m: Expecting value: line 1 column 1 (char 0)"
     ]
    }
   ],
   "source": [
    "trimmed = packet[1:]\n",
    "import json\n",
    "packetDict = json.loads(trimmed)"
   ]
  },
  {
   "cell_type": "markdown",
   "id": "74e6cd2c",
   "metadata": {},
   "source": [
    "## User 2\n",
    "\n",
    "I will attempt to join the game as another user"
   ]
  },
  {
   "cell_type": "code",
   "execution_count": null,
   "id": "1f7f99c8",
   "metadata": {},
   "outputs": [],
   "source": [
    "conn2 = s.socket(s.AF_INET, s.SOCK_STREAM)\n",
    "conn2.connect((\"127.0.0.1\", 80))"
   ]
  },
  {
   "cell_type": "code",
   "execution_count": null,
   "id": "ffa6283c",
   "metadata": {},
   "outputs": [
    {
     "data": {
      "text/plain": [
       "b'ECannot join a game when you do not have a name.\\n'"
      ]
     },
     "execution_count": 24,
     "metadata": {},
     "output_type": "execute_result"
    }
   ],
   "source": [
    "conn2.send(b'j{\"Name\":\"' + packetDict['Name'].encode() + b'\"}\\n')\n",
    "conn2.recv(BUFFER_SIZE)"
   ]
  },
  {
   "cell_type": "markdown",
   "id": "dba23e51",
   "metadata": {},
   "source": [
    "\n",
    "## Playing the game\n",
    "The two players should be able to share data with each other."
   ]
  },
  {
   "cell_type": "code",
   "execution_count": null,
   "id": "3853ccd8",
   "metadata": {},
   "outputs": [
    {
     "data": {
      "text/plain": [
       "36"
      ]
     },
     "execution_count": 25,
     "metadata": {},
     "output_type": "execute_result"
    }
   ],
   "source": [
    "conn.send(\n",
    "    b'f{\"X\":1, \"Y\":1, \"Dx\":999, \"Dy\":999}\\n'\n",
    ")"
   ]
  },
  {
   "cell_type": "code",
   "execution_count": null,
   "id": "9d9e3128",
   "metadata": {},
   "outputs": [
    {
     "data": {
      "text/plain": [
       "b'EGame not started yet\\n'"
      ]
     },
     "execution_count": 26,
     "metadata": {},
     "output_type": "execute_result"
    }
   ],
   "source": [
    "conn.recv(BUFFER_SIZE)"
   ]
  },
  {
   "cell_type": "markdown",
   "id": "659a2a09",
   "metadata": {},
   "source": [
    "subequent reads should have different values for player 1, becuase Dx and Dy move the player along like so"
   ]
  },
  {
   "cell_type": "code",
   "execution_count": null,
   "id": "4299719b",
   "metadata": {},
   "outputs": [
    {
     "data": {
      "text/plain": [
       "b'EUser not in game\\n'"
      ]
     },
     "execution_count": 27,
     "metadata": {},
     "output_type": "execute_result"
    }
   ],
   "source": [
    "import time\n",
    "time.sleep(1)\n",
    "\n",
    "conn2.send(\n",
    "    b'f{\"X\":1, \"Y\":1, \"Dx\":0, \"Dy\":0}\\n'\n",
    ")\n",
    "conn2.recv(BUFFER_SIZE)"
   ]
  },
  {
   "cell_type": "markdown",
   "id": "13abbc7b",
   "metadata": {},
   "source": [
    "## Error cases"
   ]
  },
  {
   "cell_type": "code",
   "execution_count": null,
   "id": "1a5a1fad",
   "metadata": {},
   "outputs": [],
   "source": [
    "conn3 = s.socket(s.AF_INET, s.SOCK_STREAM)\n",
    "conn3.connect((\"127.0.0.1\", 80))"
   ]
  },
  {
   "cell_type": "markdown",
   "id": "a73a451a",
   "metadata": {},
   "source": [
    "### Joining full/running game\n",
    "This should fail and return an error packet explaining why"
   ]
  },
  {
   "cell_type": "code",
   "execution_count": null,
   "id": "d84e3fe1",
   "metadata": {},
   "outputs": [
    {
     "data": {
      "text/plain": [
       "b'ECannot join a game when you do not have a name.\\n'"
      ]
     },
     "execution_count": 29,
     "metadata": {},
     "output_type": "execute_result"
    }
   ],
   "source": [
    "conn3.send(b'j{\"Name\":\"' + packetDict['Name'].encode() + b'\"}\\n')\n",
    "conn3.recv(BUFFER_SIZE)"
   ]
  },
  {
   "cell_type": "markdown",
   "id": "c8f3bc59",
   "metadata": {},
   "source": [
    "### Creating a game with 1 player and attempting to send a frame\n",
    "This should fail and return an error packet explaining why"
   ]
  },
  {
   "cell_type": "code",
   "execution_count": null,
   "id": "ccf9a265",
   "metadata": {},
   "outputs": [
    {
     "data": {
      "text/plain": [
       "b'EGame not started yet\\n'"
      ]
     },
     "execution_count": 30,
     "metadata": {},
     "output_type": "execute_result"
    }
   ],
   "source": [
    "conn3.send(b'c\\n')\n",
    "conn3.recv(BUFFER_SIZE)#i dont care what the game id is\n",
    "\n",
    "conn3.send(\n",
    "    b'f{\"X\":1, \"Y\":1, \"Dx\":0, \"Dy\":0}\\n'\n",
    ")\n",
    "conn3.recv(BUFFER_SIZE)"
   ]
  }
 ],
 "metadata": {
  "kernelspec": {
   "display_name": "Python 3 (ipykernel)",
   "language": "python",
   "name": "python3"
  },
  "language_info": {
   "codemirror_mode": {
    "name": "ipython",
    "version": 3
   },
   "file_extension": ".py",
   "mimetype": "text/x-python",
   "name": "python",
   "nbconvert_exporter": "python",
   "pygments_lexer": "ipython3",
   "version": "3.11.2"
  }
 },
 "nbformat": 4,
 "nbformat_minor": 5
}
