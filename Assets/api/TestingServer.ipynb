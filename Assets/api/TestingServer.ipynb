{
 "cells": [
  {
   "cell_type": "markdown",
   "id": "df533078",
   "metadata": {},
   "source": [
    "# Server Test\n",
    "> This is the code I am using to test the server. In this test, I will use 2 connections and attempt to make the join the same game."
   ]
  },
  {
   "cell_type": "code",
   "execution_count": 116,
   "id": "83c6008e",
   "metadata": {},
   "outputs": [],
   "source": [
    "import socket as s"
   ]
  },
  {
   "cell_type": "markdown",
   "id": "77f3c830",
   "metadata": {},
   "source": [
    "## Connecting to server\n",
    "\n",
    "I connect to the GO server on port 80(configured in docker)."
   ]
  },
  {
   "cell_type": "code",
   "execution_count": 117,
   "id": "00e569e1",
   "metadata": {},
   "outputs": [],
   "source": [
    "conn = s.socket(s.AF_INET, s.SOCK_STREAM)\n",
    "conn.connect((\"127.0.0.1\", 80))"
   ]
  },
  {
   "cell_type": "markdown",
   "id": "307c6fb4",
   "metadata": {},
   "source": [
    "## Sending packets\n",
    "\n",
    "All packets must be suffixed with \\n. This is a python implemtation of how to send them:"
   ]
  },
  {
   "cell_type": "code",
   "execution_count": 118,
   "id": "98561186",
   "metadata": {},
   "outputs": [],
   "source": [
    "# Sends a packet, returns whatever socket.Send returns\n",
    "def send_packet(content: bytes):\n",
    "    global conn\n",
    "    return conn.send(content + b'\\n')\n"
   ]
  },
  {
   "cell_type": "markdown",
   "id": "ceb1921b",
   "metadata": {},
   "source": [
    "## Get a name"
   ]
  },
  {
   "cell_type": "code",
   "execution_count": 119,
   "id": "69c3aad0",
   "metadata": {},
   "outputs": [
    {
     "data": {
      "text/plain": [
       "b'Njim\\n'"
      ]
     },
     "execution_count": 119,
     "metadata": {},
     "output_type": "execute_result"
    }
   ],
   "source": [
    "send_packet(b'njim')#set my name as jim\n",
    "conn.recv(1024)"
   ]
  },
  {
   "cell_type": "markdown",
   "id": "dcdf4c39",
   "metadata": {},
   "source": [
    "## Creating a game\n",
    "\n",
    "I need to send a packet with 'c' as the first character to intialise a game:"
   ]
  },
  {
   "cell_type": "code",
   "execution_count": 120,
   "id": "631cbdd3",
   "metadata": {},
   "outputs": [
    {
     "data": {
      "text/plain": [
       "2"
      ]
     },
     "execution_count": 120,
     "metadata": {},
     "output_type": "execute_result"
    }
   ],
   "source": [
    "send_packet(b'c')"
   ]
  },
  {
   "cell_type": "markdown",
   "id": "84ccf849",
   "metadata": {},
   "source": [
    "In response, I should get a packet with the *game code*."
   ]
  },
  {
   "cell_type": "code",
   "execution_count": 121,
   "id": "12301640",
   "metadata": {},
   "outputs": [],
   "source": [
    "BUFFER_SIZE = 1024\n",
    "\n",
    "def recieve_packet() -> bytes:\n",
    "    return conn.recv(BUFFER_SIZE)"
   ]
  },
  {
   "cell_type": "markdown",
   "id": "c50b7881",
   "metadata": {},
   "source": [
    "## Recieve the response from creating the game"
   ]
  },
  {
   "cell_type": "code",
   "execution_count": 122,
   "id": "a13113de",
   "metadata": {},
   "outputs": [],
   "source": [
    "packet = recieve_packet()"
   ]
  },
  {
   "cell_type": "code",
   "execution_count": 123,
   "id": "a7dc56b9",
   "metadata": {},
   "outputs": [],
   "source": [
    "trimmed = packet[1:]\n",
    "import json\n",
    "packetDict = json.loads(trimmed)"
   ]
  },
  {
   "cell_type": "markdown",
   "id": "74e6cd2c",
   "metadata": {},
   "source": [
    "## User 2\n",
    "\n",
    "I will attempt to join the game as another user"
   ]
  },
  {
   "cell_type": "code",
   "execution_count": 124,
   "id": "1f7f99c8",
   "metadata": {},
   "outputs": [],
   "source": [
    "conn2 = s.socket(s.AF_INET, s.SOCK_STREAM)\n",
    "conn2.connect((\"127.0.0.1\", 80))"
   ]
  },
  {
   "cell_type": "code",
   "execution_count": 125,
   "id": "cbba9f4d",
   "metadata": {},
   "outputs": [
    {
     "data": {
      "text/plain": [
       "b'Nbob\\n'"
      ]
     },
     "execution_count": 125,
     "metadata": {},
     "output_type": "execute_result"
    }
   ],
   "source": [
    "conn2.send(b'nbob\\n')#set my name as bob\n",
    "conn2.recv(BUFFER_SIZE)"
   ]
  },
  {
   "cell_type": "code",
   "execution_count": 126,
   "id": "ffa6283c",
   "metadata": {},
   "outputs": [
    {
     "data": {
      "text/plain": [
       "b'Jsuccess\\n'"
      ]
     },
     "execution_count": 126,
     "metadata": {},
     "output_type": "execute_result"
    }
   ],
   "source": [
    "conn2.send(b'j{\"Name\":\"' + packetDict['Name'].encode() + b'\"}\\n')\n",
    "conn2.recv(BUFFER_SIZE)"
   ]
  },
  {
   "cell_type": "markdown",
   "id": "dba23e51",
   "metadata": {},
   "source": [
    "\n",
    "## Playing the game\n",
    "The two players should be able to share data with each other."
   ]
  },
  {
   "cell_type": "code",
   "execution_count": 127,
   "id": "3853ccd8",
   "metadata": {},
   "outputs": [
    {
     "data": {
      "text/plain": [
       "36"
      ]
     },
     "execution_count": 127,
     "metadata": {},
     "output_type": "execute_result"
    }
   ],
   "source": [
    "conn.send(\n",
    "    b'f{\"X\":1, \"Y\":1, \"Dx\":999, \"Dy\":999}\\n'\n",
    ")"
   ]
  },
  {
   "cell_type": "code",
   "execution_count": 128,
   "id": "9d9e3128",
   "metadata": {},
   "outputs": [
    {
     "data": {
      "text/plain": [
       "b'F{\"Players\":[{\"Name\":\"jim\",\"X\":1,\"Y\":1,\"Dx\":999,\"Dy\":999},{\"Name\":\"bob\",\"X\":0,\"Y\":0,\"Dx\":0,\"Dy\":0}],\"State\":1,\"Name\":\"whsinpyy\"}\\n'"
      ]
     },
     "execution_count": 128,
     "metadata": {},
     "output_type": "execute_result"
    }
   ],
   "source": [
    "conn.recv(BUFFER_SIZE)"
   ]
  },
  {
   "cell_type": "markdown",
   "id": "659a2a09",
   "metadata": {},
   "source": [
    "subequent reads should have different values for player 1, becuase Dx and Dy move the player along like so"
   ]
  },
  {
   "cell_type": "code",
   "execution_count": 129,
   "id": "4299719b",
   "metadata": {},
   "outputs": [
    {
     "data": {
      "text/plain": [
       "b'F{\"Players\":[{\"Name\":\"jim\",\"X\":1,\"Y\":1,\"Dx\":999,\"Dy\":999},{\"Name\":\"bob\",\"X\":1,\"Y\":1,\"Dx\":0,\"Dy\":0}],\"State\":1,\"Name\":\"whsinpyy\"}\\n'"
      ]
     },
     "execution_count": 129,
     "metadata": {},
     "output_type": "execute_result"
    }
   ],
   "source": [
    "import time\n",
    "time.sleep(1)\n",
    "\n",
    "conn2.send(\n",
    "    b'f{\"X\":1, \"Y\":1, \"Dx\":0, \"Dy\":0}\\n'\n",
    ")\n",
    "conn2.recv(BUFFER_SIZE)"
   ]
  },
  {
   "cell_type": "markdown",
   "id": "13abbc7b",
   "metadata": {},
   "source": [
    "## Error cases"
   ]
  },
  {
   "cell_type": "code",
   "execution_count": 130,
   "id": "1a5a1fad",
   "metadata": {},
   "outputs": [],
   "source": [
    "conn3 = s.socket(s.AF_INET, s.SOCK_STREAM)\n",
    "conn3.connect((\"127.0.0.1\", 80))"
   ]
  },
  {
   "cell_type": "markdown",
   "id": "43694e18",
   "metadata": {},
   "source": [
    "### Joining a game without a name"
   ]
  },
  {
   "cell_type": "code",
   "execution_count": 131,
   "id": "7e5410cd",
   "metadata": {},
   "outputs": [
    {
     "data": {
      "text/plain": [
       "b'ECannot join a game when you do not have a name.\\n'"
      ]
     },
     "execution_count": 131,
     "metadata": {},
     "output_type": "execute_result"
    }
   ],
   "source": [
    "conn3.send(b'j{\"Name\":\"' + packetDict['Name'].encode() + b'\"}\\n')\n",
    "conn3.recv(BUFFER_SIZE)"
   ]
  },
  {
   "cell_type": "markdown",
   "id": "800977d3",
   "metadata": {},
   "source": [
    "resolve this issue like so:"
   ]
  },
  {
   "cell_type": "code",
   "execution_count": 132,
   "id": "87a7972c",
   "metadata": {},
   "outputs": [
    {
     "data": {
      "text/plain": [
       "b'NJoe\\n'"
      ]
     },
     "execution_count": 132,
     "metadata": {},
     "output_type": "execute_result"
    }
   ],
   "source": [
    "conn3.send(b'nJoe\\n')\n",
    "conn3.recv(BUFFER_SIZE)"
   ]
  },
  {
   "cell_type": "markdown",
   "id": "a73a451a",
   "metadata": {},
   "source": [
    "### Joining a full/running game \n",
    "This should fail and return an error packet explaining why"
   ]
  },
  {
   "cell_type": "code",
   "execution_count": 133,
   "id": "d84e3fe1",
   "metadata": {},
   "outputs": [
    {
     "data": {
      "text/plain": [
       "b'Ecould not join game\\n'"
      ]
     },
     "execution_count": 133,
     "metadata": {},
     "output_type": "execute_result"
    }
   ],
   "source": [
    "conn3.send(b'j{\"Name\":\"' + packetDict['Name'].encode() + b'\"}\\n')\n",
    "conn3.recv(BUFFER_SIZE)"
   ]
  },
  {
   "cell_type": "markdown",
   "id": "c8f3bc59",
   "metadata": {},
   "source": [
    "### Creating a game with 1 player and attempting to send a frame\n",
    "This should fail and return an error packet explaining why"
   ]
  },
  {
   "cell_type": "code",
   "execution_count": 134,
   "id": "ccf9a265",
   "metadata": {},
   "outputs": [
    {
     "data": {
      "text/plain": [
       "b'EGame not started yet\\n'"
      ]
     },
     "execution_count": 134,
     "metadata": {},
     "output_type": "execute_result"
    }
   ],
   "source": [
    "conn3.send(b'c\\n')\n",
    "conn3.recv(BUFFER_SIZE)#i dont care what the game id is\n",
    "\n",
    "conn3.send(\n",
    "    b'f{\"X\":1, \"Y\":1, \"Dx\":0, \"Dy\":0}\\n'\n",
    ")\n",
    "conn3.recv(BUFFER_SIZE)"
   ]
  },
  {
   "cell_type": "markdown",
   "id": "44a4e5ee",
   "metadata": {},
   "source": [
    "### Wrong names"
   ]
  },
  {
   "cell_type": "code",
   "execution_count": 135,
   "id": "5a232a1e",
   "metadata": {},
   "outputs": [],
   "source": [
    "conn4 = s.socket(s.AF_INET, s.SOCK_STREAM)\n",
    "conn4.connect((\"127.0.0.1\", 80))"
   ]
  },
  {
   "cell_type": "markdown",
   "id": "2938bd9e",
   "metadata": {},
   "source": [
    "#### Not submitting a name\n",
    "will return error"
   ]
  },
  {
   "cell_type": "code",
   "execution_count": 136,
   "id": "e0f3b177",
   "metadata": {},
   "outputs": [
    {
     "data": {
      "text/plain": [
       "b'EName was either not long enough, too long, or contained banned characters.\\n'"
      ]
     },
     "execution_count": 136,
     "metadata": {},
     "output_type": "execute_result"
    }
   ],
   "source": [
    "conn4.send(b\"n\\n\")\n",
    "conn4.recv(BUFFER_SIZE)"
   ]
  },
  {
   "cell_type": "markdown",
   "id": "3c0a6f6a",
   "metadata": {},
   "source": [
    "#### Submitting a name that is too long\n",
    "This will also return an error explaining why"
   ]
  },
  {
   "cell_type": "code",
   "execution_count": 137,
   "id": "824d2330",
   "metadata": {},
   "outputs": [
    {
     "data": {
      "text/plain": [
       "b'EName was either not long enough, too long, or contained banned characters.\\n'"
      ]
     },
     "execution_count": 137,
     "metadata": {},
     "output_type": "execute_result"
    }
   ],
   "source": [
    "conn4.send(b\"nmy obnoxiously massive name I chose to play as which does not make the game look fun and also could pose a risk of exploits for the server; DROP *;\\n\")\n",
    "conn4.recv(BUFFER_SIZE)"
   ]
  },
  {
   "cell_type": "markdown",
   "id": "14665f4a",
   "metadata": {},
   "source": [
    "#### All talk?\n",
    "I try to create a game after all this to catch any bug that may have slipped through"
   ]
  },
  {
   "cell_type": "code",
   "execution_count": 138,
   "id": "40ffe8b8",
   "metadata": {},
   "outputs": [
    {
     "data": {
      "text/plain": [
       "b'ECannot create a game without having a name.\\n'"
      ]
     },
     "execution_count": 138,
     "metadata": {},
     "output_type": "execute_result"
    }
   ],
   "source": [
    "conn4.send(b\"c\\n\")\n",
    "conn4.recv(BUFFER_SIZE)"
   ]
  }
 ],
 "metadata": {
  "kernelspec": {
   "display_name": "Python 3 (ipykernel)",
   "language": "python",
   "name": "python3"
  },
  "language_info": {
   "codemirror_mode": {
    "name": "ipython",
    "version": 3
   },
   "file_extension": ".py",
   "mimetype": "text/x-python",
   "name": "python",
   "nbconvert_exporter": "python",
   "pygments_lexer": "ipython3",
   "version": "3.11.2"
  }
 },
 "nbformat": 4,
 "nbformat_minor": 5
}
