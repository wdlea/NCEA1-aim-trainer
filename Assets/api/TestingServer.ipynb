{
 "cells": [
  {
   "cell_type": "markdown",
   "id": "df533078",
   "metadata": {},
   "source": [
    "# Server Test\n",
    "> This is the code I am using to test the server. In this test, I will use 2 connections and attempt to make the join the same game."
   ]
  },
  {
   "cell_type": "code",
   "execution_count": 51,
   "id": "83c6008e",
   "metadata": {},
   "outputs": [],
   "source": [
    "import socket as s"
   ]
  },
  {
   "cell_type": "markdown",
   "id": "77f3c830",
   "metadata": {},
   "source": [
    "## Connecting to server\n",
    "\n",
    "I connect to the GO server on port 80(configured in docker)."
   ]
  },
  {
   "cell_type": "code",
   "execution_count": 52,
   "id": "00e569e1",
   "metadata": {},
   "outputs": [],
   "source": [
    "conn = s.socket(s.AF_INET, s.SOCK_STREAM)\n",
    "conn.connect((\"127.0.0.1\", 80))"
   ]
  },
  {
   "cell_type": "markdown",
   "id": "307c6fb4",
   "metadata": {},
   "source": [
    "## Sending packets\n",
    "\n",
    "All packets must be suffixed with \\n. This is a python implemtation of how to send them:"
   ]
  },
  {
   "cell_type": "code",
   "execution_count": 53,
   "id": "98561186",
   "metadata": {},
   "outputs": [],
   "source": [
    "# Sends a packet, returns whatever socket.Send returns\n",
    "def send_packet(content: bytes):\n",
    "    global conn\n",
    "    return conn.send(content + b'\\n')\n"
   ]
  },
  {
   "cell_type": "markdown",
   "id": "dcdf4c39",
   "metadata": {},
   "source": [
    "## Creating a game\n",
    "\n",
    "I need to send a packet with 'c' as the first character to intialise a game:"
   ]
  },
  {
   "cell_type": "code",
   "execution_count": 54,
   "id": "631cbdd3",
   "metadata": {},
   "outputs": [
    {
     "data": {
      "text/plain": [
       "2"
      ]
     },
     "execution_count": 54,
     "metadata": {},
     "output_type": "execute_result"
    }
   ],
   "source": [
    "send_packet(b'c')"
   ]
  },
  {
   "cell_type": "markdown",
   "id": "84ccf849",
   "metadata": {},
   "source": [
    "In response, I should get a packet with the *game code*."
   ]
  },
  {
   "cell_type": "code",
   "execution_count": 55,
   "id": "12301640",
   "metadata": {},
   "outputs": [],
   "source": [
    "BUFFER_SIZE = 1024\n",
    "\n",
    "def recieve_packet() -> bytes:\n",
    "    return conn.recv(BUFFER_SIZE)"
   ]
  },
  {
   "cell_type": "code",
   "execution_count": 56,
   "id": "a13113de",
   "metadata": {},
   "outputs": [],
   "source": [
    "packet = recieve_packet()"
   ]
  },
  {
   "cell_type": "code",
   "execution_count": 57,
   "id": "a7dc56b9",
   "metadata": {},
   "outputs": [],
   "source": [
    "trimmed = packet[1:]\n",
    "import json\n",
    "packetDict = json.loads(trimmed)"
   ]
  },
  {
   "cell_type": "markdown",
   "id": "74e6cd2c",
   "metadata": {},
   "source": [
    "## User 2\n",
    "\n",
    "I will attempt to join the game as another user"
   ]
  },
  {
   "cell_type": "code",
   "execution_count": 58,
   "id": "1f7f99c8",
   "metadata": {},
   "outputs": [],
   "source": [
    "conn2 = s.socket(s.AF_INET, s.SOCK_STREAM)\n",
    "conn2.connect((\"127.0.0.1\", 80))"
   ]
  },
  {
   "cell_type": "code",
   "execution_count": 59,
   "id": "ffa6283c",
   "metadata": {},
   "outputs": [
    {
     "data": {
      "text/plain": [
       "b'Jsuccess\\n'"
      ]
     },
     "execution_count": 59,
     "metadata": {},
     "output_type": "execute_result"
    }
   ],
   "source": [
    "conn2.send(b'j' + b'{\"Name\":\"' + packetDict['Name'].encode() + b'\"}\\n')\n",
    "conn2.recv(BUFFER_SIZE)"
   ]
  },
  {
   "cell_type": "markdown",
   "id": "dba23e51",
   "metadata": {},
   "source": [
    "\n",
    "## Playing the game\n",
    "The two players should be able to share data with each other."
   ]
  },
  {
   "cell_type": "code",
   "execution_count": 60,
   "id": "3853ccd8",
   "metadata": {},
   "outputs": [
    {
     "data": {
      "text/plain": [
       "36"
      ]
     },
     "execution_count": 60,
     "metadata": {},
     "output_type": "execute_result"
    }
   ],
   "source": [
    "conn.send(\n",
    "    b'f{\"X\":1, \"Y\":1, \"Dx\":999, \"Dy\":999}\\n'\n",
    ")"
   ]
  },
  {
   "cell_type": "code",
   "execution_count": 61,
   "id": "9d9e3128",
   "metadata": {},
   "outputs": [
    {
     "data": {
      "text/plain": [
       "b'F{\"Players\":[{\"Name\":\"suncabnjla\",\"X\":1,\"Y\":1,\"Dx\":999,\"Dy\":999},{\"Name\":\"dxmixckato\",\"X\":0,\"Y\":0,\"Dx\":0,\"Dy\":0}],\"State\":1,\"Host\":null,\"Name\":\"zkjazlhe\"}\\n'"
      ]
     },
     "execution_count": 61,
     "metadata": {},
     "output_type": "execute_result"
    }
   ],
   "source": [
    "conn.recv(BUFFER_SIZE)"
   ]
  },
  {
   "cell_type": "markdown",
   "id": "659a2a09",
   "metadata": {},
   "source": [
    "subequent reads should have different values for player 1, becuase Dx and Dy move the player along like so"
   ]
  },
  {
   "cell_type": "code",
   "execution_count": 62,
   "id": "4299719b",
   "metadata": {},
   "outputs": [
    {
     "data": {
      "text/plain": [
       "b'F{\"Players\":[{\"Name\":\"suncabnjla\",\"X\":1,\"Y\":1,\"Dx\":999,\"Dy\":999},{\"Name\":\"dxmixckato\",\"X\":1,\"Y\":1,\"Dx\":0,\"Dy\":0}],\"State\":1,\"Host\":null,\"Name\":\"zkjazlhe\"}\\n'"
      ]
     },
     "execution_count": 62,
     "metadata": {},
     "output_type": "execute_result"
    }
   ],
   "source": [
    "import time\n",
    "time.sleep(1)\n",
    "\n",
    "conn2.send(\n",
    "    b'f{\"X\":1, \"Y\":1, \"Dx\":0, \"Dy\":0}\\n'\n",
    ")\n",
    "conn2.recv(BUFFER_SIZE)"
   ]
  }
 ],
 "metadata": {
  "kernelspec": {
   "display_name": "Python 3 (ipykernel)",
   "language": "python",
   "name": "python3"
  },
  "language_info": {
   "codemirror_mode": {
    "name": "ipython",
    "version": 3
   },
   "file_extension": ".py",
   "mimetype": "text/x-python",
   "name": "python",
   "nbconvert_exporter": "python",
   "pygments_lexer": "ipython3",
   "version": "3.11.2"
  }
 },
 "nbformat": 4,
 "nbformat_minor": 5
}
